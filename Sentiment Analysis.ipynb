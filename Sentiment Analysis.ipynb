{
 "cells": [
  {
   "cell_type": "code",
   "execution_count": 5,
   "id": "9a22bff9",
   "metadata": {},
   "outputs": [],
   "source": [
    "#Analyze the sentiment of text sing TextBlob module"
   ]
  },
  {
   "cell_type": "code",
   "execution_count": 3,
   "id": "f98dff93",
   "metadata": {},
   "outputs": [
    {
     "name": "stdout",
     "output_type": "stream",
     "text": [
      "Collecting textblob\n",
      "  Downloading textblob-0.19.0-py3-none-any.whl (624 kB)\n",
      "\u001b[2K     \u001b[90m━━━━━━━━━━━━━━━━━━━━━━━━━━━━━━━━━━━━━━━\u001b[0m \u001b[32m624.3/624.3 kB\u001b[0m \u001b[31m1.6 MB/s\u001b[0m eta \u001b[36m0:00:00\u001b[0ma \u001b[36m0:00:01\u001b[0m\n",
      "\u001b[?25hCollecting nltk>=3.9\n",
      "  Downloading nltk-3.9.1-py3-none-any.whl (1.5 MB)\n",
      "\u001b[2K     \u001b[90m━━━━━━━━━━━━━━━━━━━━━━━━━━━━━━━━━━━━━━━━\u001b[0m \u001b[32m1.5/1.5 MB\u001b[0m \u001b[31m2.6 MB/s\u001b[0m eta \u001b[36m0:00:00\u001b[0ma \u001b[36m0:00:01\u001b[0m\n",
      "\u001b[?25hRequirement already satisfied: regex>=2021.8.3 in /opt/homebrew/anaconda3/lib/python3.10/site-packages (from nltk>=3.9->textblob) (2022.7.9)\n",
      "Requirement already satisfied: joblib in /opt/homebrew/anaconda3/lib/python3.10/site-packages (from nltk>=3.9->textblob) (1.1.1)\n",
      "Requirement already satisfied: click in /opt/homebrew/anaconda3/lib/python3.10/site-packages (from nltk>=3.9->textblob) (8.0.4)\n",
      "Requirement already satisfied: tqdm in /opt/homebrew/anaconda3/lib/python3.10/site-packages (from nltk>=3.9->textblob) (4.64.1)\n",
      "Installing collected packages: nltk, textblob\n",
      "  Attempting uninstall: nltk\n",
      "    Found existing installation: nltk 3.7\n",
      "    Uninstalling nltk-3.7:\n",
      "      Successfully uninstalled nltk-3.7\n",
      "Successfully installed nltk-3.9.1 textblob-0.19.0\n",
      "Note: you may need to restart the kernel to use updated packages.\n"
     ]
    }
   ],
   "source": [
    "#installing textblob module\n",
    "pip install -U textblob"
   ]
  },
  {
   "cell_type": "code",
   "execution_count": 4,
   "id": "3449a5fe",
   "metadata": {},
   "outputs": [],
   "source": [
    "#import textblob library\n",
    "from textblob import TextBlob"
   ]
  },
  {
   "cell_type": "code",
   "execution_count": 16,
   "id": "8bb85d0d",
   "metadata": {},
   "outputs": [],
   "source": [
    "#Function to assess sentiment\n",
    "def sentiment_analysis(input_text):\n",
    "    blob = TextBlob(input_text)\n",
    "    polarity_score = blob.sentiment.polarity\n",
    "    \n",
    "    #determine the sentiment based on the polarity score\n",
    "    if polarity_score > 0:\n",
    "        return \"Positive\", polarity_score\n",
    "    elif polarity_score == 0:\n",
    "        return \"Neutral\", polarity_score\n",
    "    elif polarity_score < 0:\n",
    "        return \"Negative\", polarity_score"
   ]
  },
  {
   "cell_type": "code",
   "execution_count": 18,
   "id": "22c83a8f",
   "metadata": {},
   "outputs": [
    {
     "name": "stdout",
     "output_type": "stream",
     "text": [
      "Lets Analyze the sentiment\n",
      "Type end to exit the program\n",
      "Enter the Text: end\n",
      "Until next time...GoodBye!\n"
     ]
    }
   ],
   "source": [
    "def main():\n",
    "    print(\"Lets Analyze the sentiment\")\n",
    "    print(\"Type end to exit the program\")\n",
    "    \n",
    "    # Keep asking user for the next input until user enters end\n",
    "    while True:\n",
    "        #Ask for User's input\n",
    "        user_input = input(\"Enter the Text: \")\n",
    "        \n",
    "        #Check if the User wants to end the program\n",
    "        if user_input.lower().strip() == \"end\":\n",
    "            print(\"Until next time...GoodBye!\")\n",
    "            break\n",
    "            \n",
    "        #Analyze the sentiment of the text\n",
    "        sentiment, polarity_score = sentiment_analysis(user_input)\n",
    "        \n",
    "        print(\"And the Sentiment is: \", sentiment)\n",
    "        print(\"Polarity score is: \", polarity_score)\n",
    "    \n",
    "\n",
    "    # Check if the script is being run directly (not imported as a module)\n",
    "if __name__ == \"__main__\":\n",
    "    # Call the main function to start the program\n",
    "    main()"
   ]
  },
  {
   "cell_type": "code",
   "execution_count": null,
   "id": "0e55d93f",
   "metadata": {},
   "outputs": [],
   "source": [
    "print(\"c\")"
   ]
  },
  {
   "cell_type": "code",
   "execution_count": null,
   "id": "f1a876c2",
   "metadata": {},
   "outputs": [],
   "source": []
  }
 ],
 "metadata": {
  "kernelspec": {
   "display_name": "Python 3 (ipykernel)",
   "language": "python",
   "name": "python3"
  },
  "language_info": {
   "codemirror_mode": {
    "name": "ipython",
    "version": 3
   },
   "file_extension": ".py",
   "mimetype": "text/x-python",
   "name": "python",
   "nbconvert_exporter": "python",
   "pygments_lexer": "ipython3",
   "version": "3.10.9"
  }
 },
 "nbformat": 4,
 "nbformat_minor": 5
}
